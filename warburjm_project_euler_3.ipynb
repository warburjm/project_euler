{
 "cells": [
  {
   "cell_type": "code",
   "execution_count": 56,
   "metadata": {},
   "outputs": [],
   "source": [
    "#The prime factors of 13195 are 5, 7, 13 and 29.\n",
    "#What is the largest prime factor of the number 600851475143 ?\n",
    "\n",
    "import math\n",
    "\n",
    "#LEMMA 1: when checking primes, largest possible factor of a number is sqrt(n)\n",
    "#LEMMA 2: start at sqrt(n) and decrement to find largest prime factor\n",
    "\n",
    "def largest_prime_factor(number):\n",
    "    q=int(math.sqrt(number+1))\n",
    "    for i in range(q, 2, -1):\n",
    "        if number%i == 0:\n",
    "            if is_prime(i) == True:\n",
    "                return i\n",
    "        \n",
    "def is_prime(x):\n",
    "    y=2\n",
    "    while y<=math.sqrt(x):\n",
    "        if x%y == 0:\n",
    "            return False\n",
    "        if y == 2:\n",
    "            y =3\n",
    "        y+=2\n",
    "    return True\n",
    "                 "
   ]
  },
  {
   "cell_type": "code",
   "execution_count": 58,
   "metadata": {},
   "outputs": [
    {
     "data": {
      "text/plain": [
       "6857"
      ]
     },
     "execution_count": 58,
     "metadata": {},
     "output_type": "execute_result"
    }
   ],
   "source": [
    "largest_prime_factor(600851475143)"
   ]
  },
  {
   "cell_type": "code",
   "execution_count": null,
   "metadata": {},
   "outputs": [],
   "source": []
  }
 ],
 "metadata": {
  "kernelspec": {
   "display_name": "Python 3",
   "language": "python",
   "name": "python3"
  },
  "language_info": {
   "codemirror_mode": {
    "name": "ipython",
    "version": 3
   },
   "file_extension": ".py",
   "mimetype": "text/x-python",
   "name": "python",
   "nbconvert_exporter": "python",
   "pygments_lexer": "ipython3",
   "version": "3.7.5"
  }
 },
 "nbformat": 4,
 "nbformat_minor": 4
}
