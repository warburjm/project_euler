{
 "cells": [
  {
   "cell_type": "code",
   "execution_count": 18,
   "metadata": {},
   "outputs": [],
   "source": [
    "#2520 is the smallest number that can be divided by each of the numbers from 1 to 10 without any remainder.\n",
    "#What is the smallest positive number that is evenly divisible by all of the numbers from 1 to 20?\n",
    "\n",
    "import math\n",
    "\n",
    "#note: very naive implementation, takes ~20 seconds to run @3.8GHz \n",
    "\n",
    "#create a list of divisors that need to be checked\n",
    "def divisor_list(x):\n",
    "    res = []\n",
    "    for i in range(2,x+1):\n",
    "        res.append(i)\n",
    "    return res\n",
    "\n",
    "#check if the given number is evenly divisble\n",
    "def is_even_divis(arg,max_num):\n",
    "    list_of_divisors = divisor_list(max_num)\n",
    "    for i in list_of_divisors:\n",
    "        if arg%i != 0:\n",
    "            return False\n",
    "    return True\n",
    "    \n",
    "#find the smallest multiple to satisfy the requirement    \n",
    "def smallest_multiple():\n",
    "    i = 2520\n",
    "    while True:\n",
    "        if is_even_divis(i,20):\n",
    "            return i\n",
    "        i += 20"
   ]
  },
  {
   "cell_type": "code",
   "execution_count": 19,
   "metadata": {},
   "outputs": [
    {
     "data": {
      "text/plain": [
       "232792560"
      ]
     },
     "execution_count": 19,
     "metadata": {},
     "output_type": "execute_result"
    }
   ],
   "source": [
    "smallest_multiple()"
   ]
  },
  {
   "cell_type": "code",
   "execution_count": null,
   "metadata": {},
   "outputs": [],
   "source": []
  }
 ],
 "metadata": {
  "kernelspec": {
   "display_name": "Python 3",
   "language": "python",
   "name": "python3"
  },
  "language_info": {
   "codemirror_mode": {
    "name": "ipython",
    "version": 3
   },
   "file_extension": ".py",
   "mimetype": "text/x-python",
   "name": "python",
   "nbconvert_exporter": "python",
   "pygments_lexer": "ipython3",
   "version": "3.7.5"
  }
 },
 "nbformat": 4,
 "nbformat_minor": 4
}
