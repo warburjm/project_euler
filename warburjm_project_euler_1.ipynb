{
 "cells": [
  {
   "cell_type": "code",
   "execution_count": 13,
   "metadata": {},
   "outputs": [
    {
     "name": "stdout",
     "output_type": "stream",
     "text": [
      "233168\n"
     ]
    }
   ],
   "source": [
    "#If we list all the natural numbers below 10 that are multiples of 3 or 5, we get 3, 5, 6 and 9. The sum of these multiples is 23.\n",
    "#Find the sum of all the multiples of 3 or 5 below 1000.\n",
    "\n",
    "import math\n",
    "\n",
    "#find them all\n",
    "numbers = []\n",
    "for x in range(1,1000):\n",
    "    if x%3==0 or x%5==0:\n",
    "        numbers.append(x)\n",
    "\n",
    "#sum them all\n",
    "sum = 0\n",
    "for i in numbers:\n",
    "    sum += i\n",
    "    \n",
    "#return result    \n",
    "print(sum)"
   ]
  }
 ],
 "metadata": {
  "kernelspec": {
   "display_name": "Python 3",
   "language": "python",
   "name": "python3"
  },
  "language_info": {
   "codemirror_mode": {
    "name": "ipython",
    "version": 3
   },
   "file_extension": ".py",
   "mimetype": "text/x-python",
   "name": "python",
   "nbconvert_exporter": "python",
   "pygments_lexer": "ipython3",
   "version": "3.7.5"
  }
 },
 "nbformat": 4,
 "nbformat_minor": 4
}
