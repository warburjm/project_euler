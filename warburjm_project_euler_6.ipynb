{
 "cells": [
  {
   "cell_type": "code",
   "execution_count": 9,
   "metadata": {},
   "outputs": [],
   "source": [
    "#The sum of the squares of the first ten natural numbers is,\n",
    "#1^2 + 2^2 + ... + 10^2 = 385\n",
    "#The square of the sum of the first ten natural numbers is,\n",
    "#(1+2+...+10)^2 = 55^2 = 3025\n",
    "#Hence the difference between the sum of the squares of the first ten natural numbers and the square of the sum is 3025−385=2640.\n",
    "#Find the difference between the sum of the squares of the first one hundred natural numbers and the square of the sum.\n",
    "\n",
    "#very simple problem, brute force more than sufficient\n",
    "\n",
    "import math\n",
    "\n",
    "def sum_of_squares(x):\n",
    "    sum = 0\n",
    "    for i in range (1,x+1):\n",
    "        sum += i**2\n",
    "    return sum\n",
    "\n",
    "def square_of_sum(x):\n",
    "    sum = 0\n",
    "    for i in range(1,x+1):\n",
    "        sum += i\n",
    "    res = sum**2\n",
    "    return res\n",
    "        \n",
    "def sum_square_difference(x):\n",
    "    ans = square_of_sum(x) - sum_of_squares(x)\n",
    "    return ans"
   ]
  },
  {
   "cell_type": "code",
   "execution_count": 10,
   "metadata": {},
   "outputs": [
    {
     "data": {
      "text/plain": [
       "25164150"
      ]
     },
     "execution_count": 10,
     "metadata": {},
     "output_type": "execute_result"
    }
   ],
   "source": [
    "sum_square_difference(100)"
   ]
  }
 ],
 "metadata": {
  "kernelspec": {
   "display_name": "Python 3",
   "language": "python",
   "name": "python3"
  },
  "language_info": {
   "codemirror_mode": {
    "name": "ipython",
    "version": 3
   },
   "file_extension": ".py",
   "mimetype": "text/x-python",
   "name": "python",
   "nbconvert_exporter": "python",
   "pygments_lexer": "ipython3",
   "version": "3.7.5"
  }
 },
 "nbformat": 4,
 "nbformat_minor": 4
}
