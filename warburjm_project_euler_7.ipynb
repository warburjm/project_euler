{
 "cells": [
  {
   "cell_type": "code",
   "execution_count": 49,
   "metadata": {},
   "outputs": [],
   "source": [
    "#By listing the first six prime numbers: 2, 3, 5, 7, 11, and 13, we can see that the 6th prime is 13.\n",
    "#What is the 10 001st prime number?\n",
    "\n",
    "import math\n",
    "\n",
    "#check if the number is prime\n",
    "def is_prime(x):\n",
    "    y=2\n",
    "    while y<=math.sqrt(x):\n",
    "        if x%y == 0:\n",
    "            return False\n",
    "        if y==2:\n",
    "            y-=1\n",
    "        y+=2\n",
    "    return True\n",
    "\n",
    "#find the nth prime, then return it\n",
    "def nth_prime(limit):\n",
    "    number = 3;\n",
    "    prime_list = [2]\n",
    "    prime_count = 1;\n",
    "    while prime_count<limit:\n",
    "        if is_prime(number):\n",
    "            prime_list.append(number)\n",
    "            prime_count += 1\n",
    "        number += 2\n",
    "    return prime_list[-1]\n",
    "        \n",
    "    \n",
    "        \n",
    "        "
   ]
  },
  {
   "cell_type": "code",
   "execution_count": 51,
   "metadata": {},
   "outputs": [
    {
     "data": {
      "text/plain": [
       "104743"
      ]
     },
     "execution_count": 51,
     "metadata": {},
     "output_type": "execute_result"
    }
   ],
   "source": [
    "x = nth_prime(10001)\n",
    "x"
   ]
  },
  {
   "cell_type": "code",
   "execution_count": null,
   "metadata": {},
   "outputs": [],
   "source": []
  }
 ],
 "metadata": {
  "kernelspec": {
   "display_name": "Python 3",
   "language": "python",
   "name": "python3"
  },
  "language_info": {
   "codemirror_mode": {
    "name": "ipython",
    "version": 3
   },
   "file_extension": ".py",
   "mimetype": "text/x-python",
   "name": "python",
   "nbconvert_exporter": "python",
   "pygments_lexer": "ipython3",
   "version": "3.7.5"
  }
 },
 "nbformat": 4,
 "nbformat_minor": 4
}
