{
 "cells": [
  {
   "cell_type": "code",
   "execution_count": 51,
   "metadata": {},
   "outputs": [],
   "source": [
    "#The sum of the primes below 10 is 2 + 3 + 5 + 7 = 17.\n",
    "\n",
    "#Find the sum of all the primes below two million.\n",
    "\n",
    "#naive solution\n",
    "\n",
    "import math\n",
    "\n",
    "def is_prime(x):\n",
    "    y=2\n",
    "    while y<=math.sqrt(x):\n",
    "        if x%y == 0:\n",
    "            return False\n",
    "        y+=1\n",
    "    return True\n",
    "\n",
    "def ep_10():\n",
    "    summ = 2\n",
    "    for n in range(3,2000000,2):\n",
    "        if is_prime(n):\n",
    "            summ+=n\n",
    "    return summ"
   ]
  },
  {
   "cell_type": "code",
   "execution_count": 52,
   "metadata": {},
   "outputs": [
    {
     "data": {
      "text/plain": [
       "142913828922"
      ]
     },
     "execution_count": 52,
     "metadata": {},
     "output_type": "execute_result"
    }
   ],
   "source": [
    "ep_10()"
   ]
  },
  {
   "cell_type": "code",
   "execution_count": null,
   "metadata": {},
   "outputs": [],
   "source": []
  }
 ],
 "metadata": {
  "kernelspec": {
   "display_name": "Python 3",
   "language": "python",
   "name": "python3"
  },
  "language_info": {
   "codemirror_mode": {
    "name": "ipython",
    "version": 3
   },
   "file_extension": ".py",
   "mimetype": "text/x-python",
   "name": "python",
   "nbconvert_exporter": "python",
   "pygments_lexer": "ipython3",
   "version": "3.7.5"
  }
 },
 "nbformat": 4,
 "nbformat_minor": 4
}
