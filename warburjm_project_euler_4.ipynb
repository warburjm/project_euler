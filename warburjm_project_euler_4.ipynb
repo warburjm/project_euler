{
 "cells": [
  {
   "cell_type": "code",
   "execution_count": 50,
   "metadata": {},
   "outputs": [],
   "source": [
    "#A palindromic number reads the same both ways. The largest palindrome made from the product of two 2-digit numbers is 9009 = 91 × 99.\n",
    "#Find the largest palindrome made from the product of two 3-digit numbers.\n",
    "\n",
    "import math\n",
    "\n",
    "#convert a list of single digit integers to an integer\n",
    "def listofints2int(input_list): \n",
    "    res = int(\"\".join(map(str, input_list))) \n",
    "    return res   \n",
    "\n",
    "#convert an integer to a list of each of its digits\n",
    "def int2list(input_int):\n",
    "    res = list(map(int, str(input_int)))\n",
    "    return res\n",
    "\n",
    "#check if a number is a palindrome\n",
    "def is_palindrome(input_number):\n",
    "    arg = int2list(input_number)\n",
    "    half_pivot = len(arg)//2-1\n",
    "    for i in range(half_pivot+1):\n",
    "        if arg[i] != arg[-(i+1)]:\n",
    "            return False\n",
    "    return True\n",
    "\n",
    "#define the largest number as a list of integers given the number of digits\n",
    "def largest_number(num_digits):\n",
    "    result = []\n",
    "    for i in range(num_digits):\n",
    "        result.append(9)\n",
    "    return result\n",
    "\n",
    "#find the largest palindrome product\n",
    "def largest_palindrome_product(x):\n",
    "    lpp = 0\n",
    "    y = convert(largest_number(x))\n",
    "    for i in range(y,1,-1):\n",
    "        for j in range (i,1,-1):\n",
    "            product = i*j\n",
    "            if is_palindrome(product):\n",
    "                if lpp<product:\n",
    "                    lpp=product\n",
    "    return lpp"
   ]
  },
  {
   "cell_type": "code",
   "execution_count": 53,
   "metadata": {},
   "outputs": [
    {
     "data": {
      "text/plain": [
       "906609"
      ]
     },
     "execution_count": 53,
     "metadata": {},
     "output_type": "execute_result"
    }
   ],
   "source": [
    "largest_palindrome_product(3)"
   ]
  }
 ],
 "metadata": {
  "kernelspec": {
   "display_name": "Python 3",
   "language": "python",
   "name": "python3"
  },
  "language_info": {
   "codemirror_mode": {
    "name": "ipython",
    "version": 3
   },
   "file_extension": ".py",
   "mimetype": "text/x-python",
   "name": "python",
   "nbconvert_exporter": "python",
   "pygments_lexer": "ipython3",
   "version": "3.7.5"
  }
 },
 "nbformat": 4,
 "nbformat_minor": 4
}
